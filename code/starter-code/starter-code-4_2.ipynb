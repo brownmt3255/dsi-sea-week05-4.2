{
 "cells": [
  {
   "cell_type": "code",
   "execution_count": null,
   "metadata": {
    "button": false,
    "collapsed": true,
    "deletable": true,
    "new_sheet": false,
    "run_control": {
     "read_only": false
    }
   },
   "outputs": [],
   "source": [
    "import pandas as pd\n",
    "import seaborn as sb\n",
    "import matplotlib.pyplot as plt\n",
    "import json\n",
    "%matplotlib inline\n",
    "\n",
    "pd.options.display.max_columns = 50\n",
    "pd.options.display.max_colwidth = 300"
   ]
  },
  {
   "cell_type": "markdown",
   "metadata": {
    "button": false,
    "deletable": true,
    "new_sheet": false,
    "run_control": {
     "read_only": false
    }
   },
   "source": [
    "## Predicting \"Greenness\" Of Content\n",
    "\n",
    "This dataset comes from [stumbleupon](https://www.stumbleupon.com/), a web page recommender and was made available [here](https://www.kaggle.com/c/stumbleupon/download/train.tsv)\n",
    "\n",
    "A description of the columns is below\n",
    "\n",
    "FieldName|Type|Description\n",
    "---------|----|-----------\n",
    "url|string|Url of the webpage to be classified\n",
    "urlid|integer| StumbleUpon's unique identifier for each url\n",
    "boilerplate|json|Boilerplate text\n",
    "alchemy_category|string|Alchemy category (per the publicly available Alchemy API found at www.alchemyapi.com)\n",
    "alchemy_category_score|double|Alchemy category score (per the publicly available Alchemy API found at www.alchemyapi.com)\n",
    "avglinksize| double|Average number of words in each link\n",
    "commonLinkRatio_1|double|# of links sharing at least 1 word with 1 other links / # of links\n",
    "commonLinkRatio_2|double|# of links sharing at least 1 word with 2 other links / # of links\n",
    "commonLinkRatio_3|double|# of links sharing at least 1 word with 3 other links / # of links\n",
    "commonLinkRatio_4|double|# of links sharing at least 1 word with 4 other links / # of links\n",
    "compression_ratio|double|Compression achieved on this page via gzip (measure of redundancy)\n",
    "embed_ratio|double|Count of number of <embed> usage\n",
    "frameBased|integer (0 or 1)|A page is frame-based (1) if it has no body markup but have a frameset markup\n",
    "frameTagRatio|double|Ratio of iframe markups over total number of markups\n",
    "hasDomainLink|integer (0 or 1)|True (1) if it contains an <a> with an url with domain\n",
    "html_ratio|double|Ratio of tags vs text in the page\n",
    "image_ratio|double|Ratio of <img> tags vs text in the page\n",
    "is_news|integer (0 or 1) | True (1) if StumbleUpon's news classifier determines that this webpage is news\n",
    "lengthyLinkDomain| integer (0 or 1)|True (1) if at least 3 <a> 's text contains more than 30 alphanumeric characters\n",
    "linkwordscore|double|Percentage of words on the page that are in hyperlink's text\n",
    "news_front_page| integer (0 or 1)|True (1) if StumbleUpon's news classifier determines that this webpage is front-page news\n",
    "non_markup_alphanum_characters|integer| Page's text's number of alphanumeric characters\n",
    "numberOfLinks|integer Number of <a>|markups\n",
    "numwords_in_url| double|Number of words in url\n",
    "parametrizedLinkRatio|double|A link is parametrized if it's url contains parameters or has an attached onClick event\n",
    "spelling_errors_ratio|double|Ratio of words not found in wiki (considered to be a spelling mistake)\n",
    "label|integer (0 or 1)|User-determined label. Either evergreen (1) or non-evergreen (0); available for train.tsv only"
   ]
  },
  {
   "cell_type": "markdown",
   "metadata": {
    "button": false,
    "deletable": true,
    "new_sheet": false,
    "run_control": {
     "read_only": false
    }
   },
   "source": [
    "### What are 'evergreen' sites?\n",
    "- These are websites that always relevant like recipies or reviews (as opposed to current events)\n",
    "- Look at some examples"
   ]
  },
  {
   "cell_type": "code",
   "execution_count": null,
   "metadata": {
    "button": false,
    "collapsed": false,
    "deletable": true,
    "new_sheet": false,
    "run_control": {
     "read_only": false
    }
   },
   "outputs": [],
   "source": [
    "df_data = pd.read_csv('../../assets/datasets/train.csv', sep='\\t', na_values='?')\n",
    "\n",
    "df_data.head()\n"
   ]
  },
  {
   "cell_type": "code",
   "execution_count": null,
   "metadata": {
    "button": false,
    "collapsed": false,
    "deletable": true,
    "new_sheet": false,
    "run_control": {
     "read_only": false
    }
   },
   "outputs": [],
   "source": [
    "from sklearn.preprocessing import MinMaxScaler\n",
    "from sklearn.linear_model import LogisticRegression\n",
    "\n",
    "# Fill NAs\n",
    "df_data['alchemy_category'].fillna('Unknown', inplace=True)\n",
    "df_data['alchemy_category_score'].fillna(0.40, inplace=True)\n",
    "df_data[df_data.alchemy_category == 'Unknown']['alchemy_category_score'].value_counts()\n",
    "\n",
    "# Feature Selection\n",
    "X = df_data[[x for x in df_data.columns if x not in ['label','url','is_news','news_front_page','url_id']]]\n",
    "X = pd.get_dummies(X)\n",
    "y = df_data['label']\n",
    "\n",
    "\n",
    "X.info()"
   ]
  },
  {
   "cell_type": "code",
   "execution_count": 53,
   "metadata": {
    "collapsed": false
   },
   "outputs": [
    {
     "data": {
      "text/html": [
       "<div>\n",
       "<table border=\"1\" class=\"dataframe\">\n",
       "  <thead>\n",
       "    <tr style=\"text-align: right;\">\n",
       "      <th></th>\n",
       "      <th>0</th>\n",
       "    </tr>\n",
       "  </thead>\n",
       "  <tbody>\n",
       "    <tr>\n",
       "      <th>urlid</th>\n",
       "      <td>-0.156050</td>\n",
       "    </tr>\n",
       "    <tr>\n",
       "      <th>alchemy_category_score</th>\n",
       "      <td>-0.064963</td>\n",
       "    </tr>\n",
       "    <tr>\n",
       "      <th>avglinksize</th>\n",
       "      <td>0.010578</td>\n",
       "    </tr>\n",
       "    <tr>\n",
       "      <th>commonlinkratio_1</th>\n",
       "      <td>0.137689</td>\n",
       "    </tr>\n",
       "    <tr>\n",
       "      <th>commonlinkratio_2</th>\n",
       "      <td>0.117916</td>\n",
       "    </tr>\n",
       "  </tbody>\n",
       "</table>\n",
       "</div>"
      ],
      "text/plain": [
       "                               0\n",
       "urlid                  -0.156050\n",
       "alchemy_category_score -0.064963\n",
       "avglinksize             0.010578\n",
       "commonlinkratio_1       0.137689\n",
       "commonlinkratio_2       0.117916"
      ]
     },
     "execution_count": 53,
     "metadata": {},
     "output_type": "execute_result"
    }
   ],
   "source": [
    "from sklearn import preprocessing\n",
    "\n",
    "# Normalizing data and getting coefeccients\n",
    "scaler = preprocessing.StandardScaler().fit(X)\n",
    "X_norm = scaler.transform(X)\n",
    "model = LogisticRegression()\n",
    "model.fit(X_norm, y)\n",
    "coeffs = pd.DataFrame(model.coef_, columns = [X.columns.values])\n",
    "coeffs = coeffs.transpose()\n",
    "           \n",
    "coeffs.head()\n"
   ]
  },
  {
   "cell_type": "code",
   "execution_count": null,
   "metadata": {
    "collapsed": false
   },
   "outputs": [],
   "source": [
    "from sklearn.feature_selection import SelectKBest, f_classif\n",
    "\n",
    "selector = SelectKBest(f_classif, k=10)\n",
    "selector.fit(X_norm, y)\n",
    "\n",
    "keep = pd.DataFrame(selector.get_support())\n",
    "keeper = keep.transpose()\n",
    "keeper.columns = [x for x in X.columns.values]\n",
    "keep = keeper.transpose()\n",
    "\n",
    "print 'Based on K best here is what I would keep...'\n",
    "keep_2 = keep[keep[0] == True]"
   ]
  },
  {
   "cell_type": "code",
   "execution_count": null,
   "metadata": {
    "collapsed": false,
    "run_control": {}
   },
   "outputs": [],
   "source": [
    "from sklearn.feature_selection import RFE\n",
    "from sklearn.svm import SVC\n",
    "\n",
    "svc = SVC(kernel=\"linear\", C=1)\n",
    "rfe = RFE(estimator=svc, n_features_to_select=10, step=1)\n",
    "rfe.fit(X_norm, y)\n",
    "\n",
    "rfe_values = rfe.support_\n",
    "rfe_values = X_norm.columns[rfe_values].values\n",
    "\n",
    "print \"Final Features to Keep According to RFE\"\n",
    "print rfe_values"
   ]
  },
  {
   "cell_type": "code",
   "execution_count": null,
   "metadata": {
    "collapsed": true
   },
   "outputs": [],
   "source": [
    "# Feature engineering to construct new features\n",
    "from sklearn.feature_extraction.text import CountVectorizer\n",
    "\n",
    "vector_1 = CountVectorizer(\n",
    "    binary=True,  \n",
    "    stop_words='english', \n",
    "    max_features=50, \n",
    ")\n",
    "\n",
    "X_1 = vector_1.fit_transform(df_data.boilerplate).todense()\n",
    "df_X_1 = pd.DataFrame(X_1, columns=vector_1.get_feature_names()).head()"
   ]
  },
  {
   "cell_type": "code",
   "execution_count": null,
   "metadata": {
    "collapsed": true,
    "run_control": {}
   },
   "outputs": [],
   "source": [
    "# Train a logit model\n",
    "\n",
    "def model(features):\n",
    "    X = df_data[features]\n",
    "    y = df_data['label']\n",
    "\n",
    "    logreg = LogisticRegression()\n",
    "    \n",
    "    X_train, X_test, y_train, y_test = train_test_split(X, y, test_size=0.33, random_state=42)\n",
    "    logreg.fit(X_train, y_train)\n",
    "    \n",
    "    predictions = logreg.predict(X_test)\n",
    "    \n",
    "    confustion_matrix = confusion_matrix(y_test, predictions)\n",
    "   \n",
    "    df_final = pd.DataFrame(confusion_matrix, index=['Green','Not Green'], columns=['Green Predicted', 'Green NOT Predicted'])\n",
    "                                       \n",
    "    print df_final\n",
    "    print classification_report(y_test, predictions)\n",
    "\n",
    "\n",
    "print \"K_Best: \",\n",
    "modeler(keep_2)\n",
    "\n",
    "print \"RFE: \",\n",
    "modeler(rfe_values)"
   ]
  },
  {
   "cell_type": "code",
   "execution_count": null,
   "metadata": {
    "collapsed": true,
    "run_control": {}
   },
   "outputs": [],
   "source": []
  }
 ],
 "metadata": {
  "anaconda-cloud": {},
  "kernelspec": {
   "display_name": "Python [conda root]",
   "language": "python",
   "name": "conda-root-py"
  },
  "language_info": {
   "codemirror_mode": {
    "name": "ipython",
    "version": 2
   },
   "file_extension": ".py",
   "mimetype": "text/x-python",
   "name": "python",
   "nbconvert_exporter": "python",
   "pygments_lexer": "ipython2",
   "version": "2.7.12"
  }
 },
 "nbformat": 4,
 "nbformat_minor": 0
}
